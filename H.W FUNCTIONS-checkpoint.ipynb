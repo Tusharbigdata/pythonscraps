{
 "cells": [
  {
   "cell_type": "code",
   "execution_count": 1,
   "id": "39c4e46c",
   "metadata": {},
   "outputs": [
    {
     "data": {
      "text/plain": [
       "33.49333333333333"
      ]
     },
     "execution_count": 1,
     "metadata": {},
     "output_type": "execute_result"
    }
   ],
   "source": [
    "#Write a function that computes the volume of a sphere given its radius.\n",
    "\n",
    "#The volume of a sphere is given as\n",
    " \n",
    "\n",
    "def vol(rad):\n",
    "    X=4/3*(3.14)*rad*rad*rad\n",
    "    return X\n",
    "# Check\n",
    "vol(2)\n"
   ]
  },
  {
   "cell_type": "code",
   "execution_count": 2,
   "id": "a51a5901",
   "metadata": {},
   "outputs": [
    {
     "data": {
      "text/plain": [
       "True"
      ]
     },
     "execution_count": 2,
     "metadata": {},
     "output_type": "execute_result"
    }
   ],
   "source": [
    "\n",
    "#Write a function that checks whether a number is in a given range (inclusive of high and low)\n",
    "\n",
    "def ran_check(num,low,high):\n",
    "    if(num in range(low,high+1)):\n",
    "        return True\n",
    "    else:\n",
    "        return False\n",
    "   \n",
    "# Check\n",
    "ran_check(5,2,7)"
   ]
  },
  {
   "cell_type": "code",
   "execution_count": 17,
   "id": "974031c5",
   "metadata": {},
   "outputs": [
    {
     "name": "stdout",
     "output_type": "stream",
     "text": [
      "No. of Upper case characters : 4\n",
      "No. of Lower case characters :44\n"
     ]
    }
   ],
   "source": [
    "\n",
    "#Write a Python function that accepts a string and calculates the number of upper case letters and lower case letters.\n",
    "\n",
    "#Sample String : 'Hello Mr. Rogers, how are you this fine Tuesday?'\n",
    "#Expected Output : \n",
    "#No. of Upper case characters : 4\n",
    "#No. of Lower case Characters : 33\n",
    "\n",
    "#HINT: Two string methods that might prove useful: .isupper() and .islower()\n",
    "\n",
    "s = 'Hello Mr. Rogers, how are you this fine Tuesday?'\n",
    "c=0\n",
    "c1=0\n",
    "for i in s:\n",
    "    if(i.isupper()==True):\n",
    "        c=c+1\n",
    "    else:\n",
    "        c1=c1+1\n",
    "print (\"No. of Upper case characters : {}\".format(c))\n",
    "print(\"No. of Lower case characters :{}\".format(c1))\n",
    "\n",
    "   \n",
    "    \n",
    "\n",
    "    "
   ]
  },
  {
   "cell_type": "code",
   "execution_count": null,
   "id": "b6146e95",
   "metadata": {},
   "outputs": [],
   "source": [
    "Write a Python function to check whether a string is pangram or not. (Assume the string passed in does not have any punctuation)\n",
    "\n",
    "Note : Pangrams are words or sentences containing every letter of the alphabet at least once.\n",
    "For example : \"The quick brown fox jumps over the lazy dog\"\n"
   ]
  },
  {
   "cell_type": "code",
   "execution_count": 22,
   "id": "464946b7",
   "metadata": {},
   "outputs": [],
   "source": [
    "import string\n",
    "\n",
    "def ispangram(str1, alphabet=string.ascii_lowercase):\n",
    "    alphaset=set(alphabet)\n",
    "    str1=str1.lower()\n",
    "    str1=str1.replace(\" \",\"\")\n",
    "    str1=set(str1)\n",
    "    return str1== alphaset\n",
    "    \n",
    "        \n",
    "    "
   ]
  },
  {
   "cell_type": "code",
   "execution_count": 23,
   "id": "36911efb",
   "metadata": {},
   "outputs": [
    {
     "data": {
      "text/plain": [
       "True"
      ]
     },
     "execution_count": 23,
     "metadata": {},
     "output_type": "execute_result"
    }
   ],
   "source": [
    "ispangram(\"The quick brown fox jumps over the lazy dog\")\n"
   ]
  },
  {
   "cell_type": "code",
   "execution_count": null,
   "id": "02e10539",
   "metadata": {},
   "outputs": [],
   "source": []
  }
 ],
 "metadata": {
  "kernelspec": {
   "display_name": "Python 3 (ipykernel)",
   "language": "python",
   "name": "python3"
  },
  "language_info": {
   "codemirror_mode": {
    "name": "ipython",
    "version": 3
   },
   "file_extension": ".py",
   "mimetype": "text/x-python",
   "name": "python",
   "nbconvert_exporter": "python",
   "pygments_lexer": "ipython3",
   "version": "3.9.12"
  }
 },
 "nbformat": 4,
 "nbformat_minor": 5
}
